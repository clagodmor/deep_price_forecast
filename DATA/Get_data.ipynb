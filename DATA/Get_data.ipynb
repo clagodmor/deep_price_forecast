{
 "cells": [
  {
   "cell_type": "code",
   "execution_count": 1,
   "metadata": {},
   "outputs": [],
   "source": [
    "import os\n",
    "import pandas as pd\n",
    "import numpy as np\n",
    "from datetime import datetime, timedelta\n",
    "from esios import *"
   ]
  },
  {
   "cell_type": "markdown",
   "metadata": {},
   "source": [
    "Create dictionary with Indicator Name and Number of Indicator"
   ]
  },
  {
   "cell_type": "code",
   "execution_count": 2,
   "metadata": {},
   "outputs": [],
   "source": [
    "indicatorsDict = {\n",
    "                  'Previsión diaria de la demanda eléctrica peninsular' : 460,\n",
    "                  'Precio medio horario componente mercado diario' : 805,\n",
    "                  'Generación T.Real nuclear' : 549,\n",
    "                  'Generación T.Real hidráulica' : 546,\n",
    "                  'Generación T.Real eólica' : 551,\n",
    "                  'Generación T.Real Solar térmica' : 1294,\n",
    "                  'Generación T.Real Solar fotovoltaica' : 1295\n",
    "                 }\n",
    "\n",
    "indicatorsItems = indicatorsDict.items()   # To iterate over name and number at the same time"
   ]
  },
  {
   "cell_type": "markdown",
   "metadata": {},
   "source": [
    "Download indicators data from 01/01/2016 to 01/06/2020 and save it into `\".csv\"` files."
   ]
  },
  {
   "cell_type": "code",
   "execution_count": 3,
   "metadata": {},
   "outputs": [
    {
     "name": "stdout",
     "output_type": "stream",
     "text": [
      "Analyzing indicators...\n",
      "Start Date: 2016-01-01\n",
      "End Date: 2016-05-01\n",
      "Downloading Previsión diaria de la demanda eléctrica peninsular\n",
      "Generated:460\n"
     ]
    }
   ],
   "source": [
    "start_date = \"2016-01-01\"\n",
    "end_date = \"2020-05-01\"\n",
    "start_ = start_date + 'T00:00:00'\n",
    "end_ = end_date + 'T23:50:00'\n",
    "token = '6cc21e0b60e9931e7522a6ce72a1a09f3a6fadc6f08b142f956db142c6858bc2'    # Introduce ESIOS token\n",
    "esios = ESIOS(token)\n",
    "country = 'Spain' #Spain, France or Portugal are the options\n",
    "\n",
    "for indicatorName, indicatorValue in indicatorsItems:\n",
    "    print ('Start Date: ' + start_date)\n",
    "    print ('End Date: ' + end_date)\n",
    "    indicators_ = list()\n",
    "    indicators_.append(indicatorValue)\n",
    "    dfmul , df_list, names = esios.get_multiple_series(indicators_, start_, end_, country)\n",
    "    df = dfmul[names]\n",
    "    df = df.reset_index()\n",
    "    df.columns = ['Date', indicatorName]\n",
    "    df['Date'] = df['Date'].str.replace('.', ' ')\n",
    "    df['Date'] = df['Date'].str.split().str[0]\n",
    "    df['Date'] = df['Date'].str.replace('T', ' ')\n",
    "    # Export to .csv file\n",
    "    try:\n",
    "        os.stat(\"Files/\")\n",
    "    except:\n",
    "        os.mkdir(\"Files/\")\n",
    "    df.to_csv(path_or_buf= 'Files/' + str(indicatorValue) + '.csv', sep='^', index=False)\n",
    "    print('Generated:' + str(indicatorValue))"
   ]
  },
  {
   "cell_type": "markdown",
   "metadata": {},
   "source": [
    "Read `'.csv'` files generated in different DataFrames."
   ]
  },
  {
   "cell_type": "code",
   "execution_count": null,
   "metadata": {},
   "outputs": [],
   "source": [
    "with open('Files/460.csv', 'r') as fichero:     \n",
    "    dfDemand = pd.read_csv(fichero, sep = '^', dtype='object')\n",
    "    dfDemand['Date']=pd.to_datetime(dfDemand['Date'])\n",
    "    \n",
    "with open('Files/1294.csv', 'r') as fichero:     \n",
    "    dfSolarT = pd.read_csv(fichero, sep = '^', dtype='object')\n",
    "    dfSolarT['Date']=pd.to_datetime(dfSolarT['Date'])\n",
    "    \n",
    "with open('Files/1295.csv', 'r') as fichero:     \n",
    "    dfSolar = pd.read_csv(fichero, sep = '^', dtype='object')\n",
    "    dfSolar['Date']=pd.to_datetime(dfSolar['Date']) \n",
    "    \n",
    "with open('Files/551.csv', 'r') as fichero:     \n",
    "    dfEolic = pd.read_csv(fichero, sep = '^', dtype='object')\n",
    "    dfEolic['Date']=pd.to_datetime(dfEolic['Date'])\n",
    "    \n",
    "with open('Files/805.csv', 'r') as fichero:     \n",
    "    dfPrice = pd.read_csv(fichero, sep = '^', dtype='object')\n",
    "    dfPrice['Date']=pd.to_datetime(dfPrice['Date']) \n",
    "        \n",
    "with open('Files/546.csv', 'r') as fichero:     \n",
    "    dfHidro = pd.read_csv(fichero, sep = '^', dtype='object')\n",
    "    dfHidro['Date']=pd.to_datetime(dfHidro['Date']) \n",
    "        \n",
    "with open('Files/549.csv', 'r') as fichero:     \n",
    "    dfNuclear = pd.read_csv(fichero, sep = '^', dtype='object')\n",
    "    dfNuclear['Date']=pd.to_datetime(dfNuclear['Date']) "
   ]
  },
  {
   "cell_type": "code",
   "execution_count": null,
   "metadata": {},
   "outputs": [],
   "source": [
    "dfDemand.sample(5)"
   ]
  },
  {
   "cell_type": "code",
   "execution_count": null,
   "metadata": {},
   "outputs": [],
   "source": [
    "dfSolar.sample(5)"
   ]
  },
  {
   "cell_type": "code",
   "execution_count": null,
   "metadata": {},
   "outputs": [],
   "source": [
    "dfEolic.sample(5)"
   ]
  },
  {
   "cell_type": "code",
   "execution_count": null,
   "metadata": {},
   "outputs": [],
   "source": [
    "dfPrice.sample(5)"
   ]
  },
  {
   "cell_type": "code",
   "execution_count": null,
   "metadata": {},
   "outputs": [],
   "source": [
    "dfNuclear.sample(5)"
   ]
  },
  {
   "cell_type": "code",
   "execution_count": null,
   "metadata": {},
   "outputs": [],
   "source": []
  }
 ],
 "metadata": {
  "kernelspec": {
   "display_name": "Python 3",
   "language": "python",
   "name": "python3"
  },
  "language_info": {
   "codemirror_mode": {
    "name": "ipython",
    "version": 3
   },
   "file_extension": ".py",
   "mimetype": "text/x-python",
   "name": "python",
   "nbconvert_exporter": "python",
   "pygments_lexer": "ipython3",
   "version": "3.6.9"
  }
 },
 "nbformat": 4,
 "nbformat_minor": 2
}
