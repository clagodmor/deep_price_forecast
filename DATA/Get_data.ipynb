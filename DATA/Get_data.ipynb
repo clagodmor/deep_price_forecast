{
 "cells": [
  {
   "cell_type": "code",
   "execution_count": 1,
   "metadata": {},
   "outputs": [],
   "source": [
    "import os\n",
    "import pandas as pd\n",
    "import numpy as np\n",
    "from datetime import datetime, timedelta\n",
    "from esios import *"
   ]
  },
  {
   "cell_type": "markdown",
   "metadata": {},
   "source": [
    "Create dictionary with Indicator Name and Number of Indicator"
   ]
  },
  {
   "cell_type": "code",
   "execution_count": 2,
   "metadata": {},
   "outputs": [],
   "source": [
    "indicatorsDict = {\n",
    "    'Previsión diaria de la demanda eléctrica peninsular' : 460,\n",
    "#                   'Generación prevista Solar' : 10034,\n",
    "#                   'Previsión de la producción eólica nacional peninsular' : 541,  \n",
    "                  'Precio medio horario componente mercado diario' : 805,\n",
    "                  'Generación T.Real nuclear' : 549,\n",
    "#                   'Generación T.Real Solar' : 10206,\n",
    "                  'Generación T.Real hidráulica' : 546,\n",
    "                  'Generación T.Real eólica' : 551,\n",
    "                  'Generación T.Real Solar térmica' : 1294,\n",
    "                  'Generación T.Real Solar fotovoltaica' : 1295\n",
    "                 }\n",
    "\n",
    "indicatorsItems = indicatorsDict.items()   # To iterate over name and number at the same time"
   ]
  },
  {
   "cell_type": "markdown",
   "metadata": {},
   "source": [
    "Download indicators data from 01/01/2016 to 01/06/2020 and save it into `\".csv\"` files."
   ]
  },
  {
   "cell_type": "code",
   "execution_count": 3,
   "metadata": {},
   "outputs": [
    {
     "name": "stdout",
     "output_type": "stream",
     "text": [
      "Analyzing indicators...\n",
      "Start Date: 2019-01-01\n",
      "End Date: 2019-05-01\n",
      "Downloading Previsión diaria de la demanda eléctrica peninsular\n",
      "Generated:460\n",
      "Start Date: 2019-01-01\n",
      "End Date: 2019-05-01\n",
      "Downloading Precio medio horario componente mercado diario \n",
      "Generated:805\n",
      "Start Date: 2019-01-01\n",
      "End Date: 2019-05-01\n",
      "Downloading Generación T.Real nuclear\n",
      "Generated:549\n",
      "Start Date: 2019-01-01\n",
      "End Date: 2019-05-01\n",
      "Downloading Generación T.Real hidráulica\n",
      "Generated:546\n",
      "Start Date: 2019-01-01\n",
      "End Date: 2019-05-01\n",
      "Downloading Generación T.Real eólica\n",
      "Generated:551\n",
      "Start Date: 2019-01-01\n",
      "End Date: 2019-05-01\n",
      "Downloading Generación T.Real Solar térmica\n",
      "Generated:1294\n",
      "Start Date: 2019-01-01\n",
      "End Date: 2019-05-01\n",
      "Downloading Generación T.Real Solar fotovoltaica\n",
      "Generated:1295\n"
     ]
    }
   ],
   "source": [
    "if __name__ == '__main__':\n",
    "    start_date = \"2016-01-01\"\n",
    "    end_date = \"2020-05-01\"\n",
    "    start_ = start_date + 'T00:00:00'\n",
    "    end_ = end_date + 'T23:50:00'\n",
    "    token = '6cc21e0b60e9931e7522a6ce72a1a09f3a6fadc6f08b142f956db142c6858bc2'    # Introduce ESIOS token\n",
    "    esios = ESIOS(token)\n",
    "    for indicatorName, indicatorValue in indicatorsItems:\n",
    "        print ('Start Date: ' + start_date)\n",
    "        print ('End Date: ' + end_date)\n",
    "        indicators_ = list()\n",
    "        indicators_.append(indicatorValue)\n",
    "        dfmul , df_list, names = esios.get_multiple_series_Spain(indicators_, start_, end_)\n",
    "        df = dfmul[names]\n",
    "        df = df.reset_index()\n",
    "        df.columns = ['Date', indicatorName]\n",
    "        df['Date'] = df['Date'].str.replace('.', ' ')\n",
    "        df['Date'] = df['Date'].str.split().str[0]\n",
    "        df['Date'] = df['Date'].str.replace('T', ' ')\n",
    "        # Export to .csv file\n",
    "        try:\n",
    "            os.stat(\"Files/\")\n",
    "        except:\n",
    "            os.mkdir(\"Files/\")\n",
    "        df.to_csv(path_or_buf= 'Files/' + str(indicatorValue) + '.csv', sep='^', index=False)\n",
    "        print('Generated:' + str(indicatorValue))"
   ]
  },
  {
   "cell_type": "markdown",
   "metadata": {},
   "source": [
    "Read `'.csv'` files generated in different DataFrames."
   ]
  },
  {
   "cell_type": "code",
   "execution_count": null,
   "metadata": {},
   "outputs": [],
   "source": [
    "with open('Files/546.csv', 'r') as fichero:     \n",
    "    dfDemand = pd.read_csv(fichero, sep = '^', dtype='object')\n",
    "    dfDemand['Fecha']=pd.to_datetime(dfDemand['Fecha'])\n",
    "    \n",
    "with open('Files/10034.csv', 'r') as fichero:     \n",
    "    dfSolar = pd.read_csv(fichero, sep = '^', dtype='object')\n",
    "    dfSolar['Fecha']=pd.to_datetime(dfSolar['Fecha'])\n",
    "    \n",
    "with open('Files/541.csv', 'r') as fichero:     \n",
    "    dfEolic = pd.read_csv(fichero, sep = '^', dtype='object')\n",
    "    dfEolic['Fecha']=pd.to_datetime(dfEolic['Fecha'])\n",
    "    \n",
    "with open('Files/805.csv', 'r') as fichero:     \n",
    "    dfPrice = pd.read_csv(fichero, sep = '^', dtype='object')\n",
    "    dfPrice['Fecha']=pd.to_datetime(dfPrice['Fecha']) "
   ]
  },
  {
   "cell_type": "code",
   "execution_count": null,
   "metadata": {},
   "outputs": [],
   "source": [
    "dfDemand.sample(5)"
   ]
  },
  {
   "cell_type": "code",
   "execution_count": null,
   "metadata": {},
   "outputs": [],
   "source": [
    "dfSolar.sample(5)"
   ]
  },
  {
   "cell_type": "code",
   "execution_count": null,
   "metadata": {},
   "outputs": [],
   "source": [
    "dfEolic.sample(5)"
   ]
  },
  {
   "cell_type": "code",
   "execution_count": null,
   "metadata": {},
   "outputs": [],
   "source": [
    "dfPrice.sample(5)"
   ]
  },
  {
   "cell_type": "code",
   "execution_count": null,
   "metadata": {},
   "outputs": [],
   "source": []
  }
 ],
 "metadata": {
  "kernelspec": {
   "display_name": "Python 3",
   "language": "python",
   "name": "python3"
  },
  "language_info": {
   "codemirror_mode": {
    "name": "ipython",
    "version": 3
   },
   "file_extension": ".py",
   "mimetype": "text/x-python",
   "name": "python",
   "nbconvert_exporter": "python",
   "pygments_lexer": "ipython3",
   "version": "3.6.9"
  }
 },
 "nbformat": 4,
 "nbformat_minor": 2
}
