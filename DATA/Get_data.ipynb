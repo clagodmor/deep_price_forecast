{
 "cells": [
  {
   "cell_type": "markdown",
   "metadata": {},
   "source": [
    "## Data acquisition and processing"
   ]
  },
  {
   "cell_type": "code",
   "execution_count": 1,
   "metadata": {},
   "outputs": [],
   "source": [
    "import os\n",
    "import pandas as pd\n",
    "import numpy as np\n",
    "from datetime import datetime, timedelta\n",
    "from esios import *"
   ]
  },
  {
   "cell_type": "markdown",
   "metadata": {},
   "source": [
    "### 1. Download data using ESIOS.py "
   ]
  },
  {
   "cell_type": "markdown",
   "metadata": {},
   "source": [
    "#### Dictionary with Indicator Name and Number of Indicator"
   ]
  },
  {
   "cell_type": "code",
   "execution_count": 2,
   "metadata": {},
   "outputs": [],
   "source": [
    "indicatorsDict = {\n",
    "                    'demand': 460,\n",
    "                    'price': 805,\n",
    "                    'wind':541,\n",
    "                    'solar':10034\n",
    "                 }\n",
    "\n",
    "indicatorsItems = indicatorsDict.items()   # To iterate over name and number at the same time"
   ]
  },
  {
   "cell_type": "markdown",
   "metadata": {},
   "source": [
    "#### Download indicators data from 01-01-2014 to 01-06-2020 and save it into `\".csv\"` files."
   ]
  },
  {
   "cell_type": "code",
   "execution_count": 3,
   "metadata": {},
   "outputs": [
    {
     "name": "stdout",
     "output_type": "stream",
     "text": [
      "Analyzing indicators...\n",
      "Start Date: 2014-01-01\n",
      "End Date: 2020-07-01\n",
      "Downloading Previsión diaria de la demanda eléctrica peninsular\n",
      "Generated:demand\n",
      "Start Date: 2014-01-01\n",
      "End Date: 2020-07-01\n",
      "Downloading Precio medio horario componente mercado diario \n",
      "Generated:price\n",
      "Start Date: 2014-01-01\n",
      "End Date: 2020-07-01\n",
      "Downloading Previsión de la producción eólica peninsular\n",
      "Generated:wind\n",
      "Start Date: 2014-01-01\n",
      "End Date: 2020-07-01\n",
      "Downloading Generación prevista Solar\n",
      "Generated:solar\n"
     ]
    }
   ],
   "source": [
    "start_date = \"2014-01-01\"\n",
    "end_date = \"2020-07-01\"\n",
    "start_ = start_date + 'T00:00:00'\n",
    "end_ = end_date + 'T23:50:00'\n",
    "token = '6cc21e0b60e9931e7522a6ce72a1a09f3a6fadc6f08b142f956db142c6858bc2'    # Introduce ESIOS token\n",
    "esios = ESIOS(token)\n",
    "country = 'Spain' #Spain, France or Portugal are the options\n",
    "\n",
    "for indicatorName, indicatorValue in indicatorsItems:\n",
    "    print ('Start Date: ' + start_date)\n",
    "    print ('End Date: ' + end_date)\n",
    "    indicators_ = list()\n",
    "    indicators_.append(indicatorValue)\n",
    "    dfmul , df_list, names = esios.get_multiple_series(indicators_, start_, end_, country)\n",
    "    df = dfmul[names]\n",
    "    df = df.reset_index()\n",
    "    df.columns = ['Date', indicatorName]\n",
    "    df['Date'] = df['Date'].str.replace('.', ' ')\n",
    "    df['Date'] = df['Date'].str.split().str[0]\n",
    "    df['Date'] = df['Date'].str.replace('T', ' ')\n",
    "    # Export to .csv file\n",
    "    try:\n",
    "        os.stat(\"Files/\")\n",
    "    except:\n",
    "        os.mkdir(\"Files/\")\n",
    "    df.to_csv(path_or_buf= 'Files/' + str(indicatorName) + '.csv', sep='^', index=False)\n",
    "    print('Generated:' + str(indicatorName))"
   ]
  },
  {
   "cell_type": "markdown",
   "metadata": {},
   "source": [
    "### 2. Preprocesing bank holidays"
   ]
  },
  {
   "cell_type": "code",
   "execution_count": 4,
   "metadata": {},
   "outputs": [],
   "source": [
    "df_holidays = pd.read_csv('Files/Bank_Holidays_Final.csv', sep = '^')\n",
    "df_holidays['Date'] =pd.to_datetime(df_holidays['Date'])"
   ]
  },
  {
   "cell_type": "markdown",
   "metadata": {},
   "source": [
    "### 3. Preprocesing esios data"
   ]
  },
  {
   "cell_type": "code",
   "execution_count": 5,
   "metadata": {},
   "outputs": [],
   "source": [
    "from functools import reduce"
   ]
  },
  {
   "cell_type": "code",
   "execution_count": 6,
   "metadata": {},
   "outputs": [],
   "source": [
    "with open('Files/demand.csv', 'r') as fichero:     \n",
    "    dfDemand = pd.read_csv(fichero, sep = '^', dtype='object')\n",
    "    dfDemand['Date']=pd.to_datetime(dfDemand['Date'])\n",
    "    \n",
    "with open('Files/solar.csv', 'r') as fichero:     \n",
    "    dfSolar = pd.read_csv(fichero, sep = '^', dtype='object')\n",
    "    dfSolar['Date']=pd.to_datetime(dfSolar['Date']) \n",
    "    \n",
    "with open('Files/wind.csv', 'r') as fichero:     \n",
    "    dfWind = pd.read_csv(fichero, sep = '^', dtype='object')\n",
    "    dfWind['Date']=pd.to_datetime(dfWind['Date'])\n",
    "    \n",
    "with open('Files/price.csv', 'r') as fichero:     \n",
    "    dfPrice = pd.read_csv(fichero, sep = '^', dtype='object')\n",
    "    dfPrice['Date']=pd.to_datetime(dfPrice['Date']) "
   ]
  },
  {
   "cell_type": "markdown",
   "metadata": {},
   "source": [
    "#### Merge all files in one DataFrame"
   ]
  },
  {
   "cell_type": "markdown",
   "metadata": {},
   "source": [
    "#### It's necessary to drop duplicates values to avoid repeated rows before merging DataFrames. "
   ]
  },
  {
   "cell_type": "code",
   "execution_count": 7,
   "metadata": {},
   "outputs": [],
   "source": [
    "dfDemand = dfDemand.drop_duplicates(subset='Date', keep='first')\n",
    "dfSolar = dfSolar.drop_duplicates(subset='Date', keep='first')\n",
    "dfWind = dfWind.drop_duplicates(subset='Date', keep='first')\n",
    "dfPrice = dfPrice.drop_duplicates(subset='Date', keep='first')"
   ]
  },
  {
   "cell_type": "code",
   "execution_count": 8,
   "metadata": {},
   "outputs": [
    {
     "data": {
      "text/html": [
       "<div>\n",
       "<style scoped>\n",
       "    .dataframe tbody tr th:only-of-type {\n",
       "        vertical-align: middle;\n",
       "    }\n",
       "\n",
       "    .dataframe tbody tr th {\n",
       "        vertical-align: top;\n",
       "    }\n",
       "\n",
       "    .dataframe thead th {\n",
       "        text-align: right;\n",
       "    }\n",
       "</style>\n",
       "<table border=\"1\" class=\"dataframe\">\n",
       "  <thead>\n",
       "    <tr style=\"text-align: right;\">\n",
       "      <th></th>\n",
       "      <th>Date</th>\n",
       "      <th>demand</th>\n",
       "      <th>solar</th>\n",
       "      <th>wind</th>\n",
       "      <th>price</th>\n",
       "    </tr>\n",
       "  </thead>\n",
       "  <tbody>\n",
       "    <tr>\n",
       "      <th>0</th>\n",
       "      <td>2014-01-01 00:00:00</td>\n",
       "      <td>26252.0</td>\n",
       "      <td>3.5</td>\n",
       "      <td>10790.0</td>\n",
       "      <td>20.02</td>\n",
       "    </tr>\n",
       "    <tr>\n",
       "      <th>1</th>\n",
       "      <td>2014-01-01 01:00:00</td>\n",
       "      <td>24040.0</td>\n",
       "      <td>0.0</td>\n",
       "      <td>10885.0</td>\n",
       "      <td>10.34</td>\n",
       "    </tr>\n",
       "    <tr>\n",
       "      <th>2</th>\n",
       "      <td>2014-01-01 02:00:00</td>\n",
       "      <td>22829.0</td>\n",
       "      <td>0.0</td>\n",
       "      <td>10984.0</td>\n",
       "      <td>5.35</td>\n",
       "    </tr>\n",
       "  </tbody>\n",
       "</table>\n",
       "</div>"
      ],
      "text/plain": [
       "                 Date   demand solar     wind  price\n",
       "0 2014-01-01 00:00:00  26252.0   3.5  10790.0  20.02\n",
       "1 2014-01-01 01:00:00  24040.0   0.0  10885.0  10.34\n",
       "2 2014-01-01 02:00:00  22829.0   0.0  10984.0   5.35"
      ]
     },
     "execution_count": 8,
     "metadata": {},
     "output_type": "execute_result"
    }
   ],
   "source": [
    "df_esios = [dfDemand, dfSolar, dfWind, dfPrice]\n",
    "df_esios = reduce(lambda left,right: pd.merge(left,right,on='Date', how = 'right'), df_esios)\n",
    "df_esios.head(3)"
   ]
  },
  {
   "cell_type": "markdown",
   "metadata": {},
   "source": [
    "#### Is needed to cast objects to floats"
   ]
  },
  {
   "cell_type": "code",
   "execution_count": 9,
   "metadata": {
    "scrolled": true
   },
   "outputs": [
    {
     "data": {
      "text/plain": [
       "Date      datetime64[ns]\n",
       "demand            object\n",
       "solar             object\n",
       "wind              object\n",
       "price             object\n",
       "dtype: object"
      ]
     },
     "execution_count": 9,
     "metadata": {},
     "output_type": "execute_result"
    }
   ],
   "source": [
    "df_esios.dtypes"
   ]
  },
  {
   "cell_type": "code",
   "execution_count": 10,
   "metadata": {},
   "outputs": [],
   "source": [
    "df_esios['demand'] = df_esios['demand'].astype(float)\n",
    "df_esios['solar'] = df_esios['solar'].astype(float)\n",
    "df_esios['wind'] = df_esios['wind'].astype(float)\n",
    "df_esios['price'] = df_esios['price'].astype(float)"
   ]
  },
  {
   "cell_type": "code",
   "execution_count": 11,
   "metadata": {},
   "outputs": [
    {
     "data": {
      "text/plain": [
       "Date      datetime64[ns]\n",
       "demand           float64\n",
       "solar            float64\n",
       "wind             float64\n",
       "price            float64\n",
       "dtype: object"
      ]
     },
     "execution_count": 11,
     "metadata": {},
     "output_type": "execute_result"
    }
   ],
   "source": [
    "df_esios.dtypes"
   ]
  },
  {
   "cell_type": "markdown",
   "metadata": {},
   "source": [
    "#### Check data distribution using seaborn boxplot"
   ]
  },
  {
   "cell_type": "code",
   "execution_count": 12,
   "metadata": {},
   "outputs": [],
   "source": [
    "import seaborn as sns\n",
    "import matplotlib.dates as dates\n",
    "import matplotlib.pyplot as plt\n",
    "%matplotlib inline "
   ]
  },
  {
   "cell_type": "code",
   "execution_count": 13,
   "metadata": {},
   "outputs": [
    {
     "data": {
      "image/png": "[encoded data removed]",
      "text/plain": [
       "<Figure size 1080x504 with 4 Axes>"
      ]
     },
     "metadata": {
      "needs_background": "light"
     },
     "output_type": "display_data"
    }
   ],
   "source": [
    "fig, axs = plt.subplots(ncols=4,figsize=(15,7))\n",
    "plt.subplots_adjust(wspace=1, hspace=None)\n",
    "sns.boxplot(df_esios['demand'], orient='v', ax=axs[0])\n",
    "sns.boxplot(df_esios['solar'], orient='v', ax=axs[1])\n",
    "sns.boxplot(df_esios['wind'], orient='v', ax=axs[2])\n",
    "sns.boxplot(df_esios['price'], orient='v', ax=axs[3])\n",
    "plt.show()"
   ]
  },
  {
   "cell_type": "markdown",
   "metadata": {},
   "source": [
    "#### 2a. OUTLIERS"
   ]
  },
  {
   "cell_type": "code",
   "execution_count": 14,
   "metadata": {},
   "outputs": [
    {
     "data": {
      "text/html": [
       "<div>\n",
       "<style scoped>\n",
       "    .dataframe tbody tr th:only-of-type {\n",
       "        vertical-align: middle;\n",
       "    }\n",
       "\n",
       "    .dataframe tbody tr th {\n",
       "        vertical-align: top;\n",
       "    }\n",
       "\n",
       "    .dataframe thead th {\n",
       "        text-align: right;\n",
       "    }\n",
       "</style>\n",
       "<table border=\"1\" class=\"dataframe\">\n",
       "  <thead>\n",
       "    <tr style=\"text-align: right;\">\n",
       "      <th></th>\n",
       "      <th>demand</th>\n",
       "      <th>solar</th>\n",
       "      <th>wind</th>\n",
       "      <th>price</th>\n",
       "    </tr>\n",
       "  </thead>\n",
       "  <tbody>\n",
       "    <tr>\n",
       "      <th>count</th>\n",
       "      <td>56969.000000</td>\n",
       "      <td>56969.000000</td>\n",
       "      <td>56969.00000</td>\n",
       "      <td>56969.000000</td>\n",
       "    </tr>\n",
       "    <tr>\n",
       "      <th>mean</th>\n",
       "      <td>28341.512559</td>\n",
       "      <td>1530.728180</td>\n",
       "      <td>5606.23282</td>\n",
       "      <td>46.743382</td>\n",
       "    </tr>\n",
       "    <tr>\n",
       "      <th>std</th>\n",
       "      <td>4639.590215</td>\n",
       "      <td>1826.435406</td>\n",
       "      <td>3310.03786</td>\n",
       "      <td>15.680184</td>\n",
       "    </tr>\n",
       "    <tr>\n",
       "      <th>min</th>\n",
       "      <td>16372.000000</td>\n",
       "      <td>0.000000</td>\n",
       "      <td>12.60000</td>\n",
       "      <td>0.000000</td>\n",
       "    </tr>\n",
       "    <tr>\n",
       "      <th>25%</th>\n",
       "      <td>24450.000000</td>\n",
       "      <td>59.600000</td>\n",
       "      <td>3008.00000</td>\n",
       "      <td>38.200000</td>\n",
       "    </tr>\n",
       "    <tr>\n",
       "      <th>50%</th>\n",
       "      <td>28435.000000</td>\n",
       "      <td>585.700000</td>\n",
       "      <td>4960.00000</td>\n",
       "      <td>48.110000</td>\n",
       "    </tr>\n",
       "    <tr>\n",
       "      <th>75%</th>\n",
       "      <td>31912.000000</td>\n",
       "      <td>2776.600000</td>\n",
       "      <td>7645.00000</td>\n",
       "      <td>57.660000</td>\n",
       "    </tr>\n",
       "    <tr>\n",
       "      <th>max</th>\n",
       "      <td>41514.000000</td>\n",
       "      <td>9299.000000</td>\n",
       "      <td>17430.00000</td>\n",
       "      <td>113.920000</td>\n",
       "    </tr>\n",
       "  </tbody>\n",
       "</table>\n",
       "</div>"
      ],
      "text/plain": [
       "             demand         solar         wind         price\n",
       "count  56969.000000  56969.000000  56969.00000  56969.000000\n",
       "mean   28341.512559   1530.728180   5606.23282     46.743382\n",
       "std     4639.590215   1826.435406   3310.03786     15.680184\n",
       "min    16372.000000      0.000000     12.60000      0.000000\n",
       "25%    24450.000000     59.600000   3008.00000     38.200000\n",
       "50%    28435.000000    585.700000   4960.00000     48.110000\n",
       "75%    31912.000000   2776.600000   7645.00000     57.660000\n",
       "max    41514.000000   9299.000000  17430.00000    113.920000"
      ]
     },
     "execution_count": 14,
     "metadata": {},
     "output_type": "execute_result"
    }
   ],
   "source": [
    "df_esios.describe()"
   ]
  },
  {
   "cell_type": "markdown",
   "metadata": {},
   "source": [
    "Calculate Interquantile range as the difference between upper and lower quartiles (IQR = Q3 - Q1)\n",
    "\n"
   ]
  },
  {
   "cell_type": "code",
   "execution_count": 15,
   "metadata": {},
   "outputs": [
    {
     "data": {
      "text/plain": [
       "demand    7462.00\n",
       "solar     2717.00\n",
       "wind      4637.00\n",
       "price       19.46\n",
       "dtype: float64"
      ]
     },
     "execution_count": 15,
     "metadata": {},
     "output_type": "execute_result"
    }
   ],
   "source": [
    "Q1 = df_esios.quantile(0.25)\n",
    "Q3 = df_esios.quantile(0.75)\n",
    "IQR = Q3 - Q1\n",
    "IQR"
   ]
  },
  {
   "cell_type": "markdown",
   "metadata": {},
   "source": [
    "Calculate the number of outliers for each DataFrame 'df_esios' series."
   ]
  },
  {
   "cell_type": "markdown",
   "metadata": {},
   "source": [
    "#### 'DEMAND' Outliers:\n"
   ]
  },
  {
   "cell_type": "code",
   "execution_count": 16,
   "metadata": {},
   "outputs": [
    {
     "data": {
      "text/plain": [
       "0"
      ]
     },
     "execution_count": 16,
     "metadata": {},
     "output_type": "execute_result"
    }
   ],
   "source": [
    "numOutliersQ1_D = df_esios['demand'][df_esios['demand']<(Q1.iloc[0] - 1.5 * IQR.iloc[0])].count()\n",
    "numOutliersQ3_D = df_esios['demand'][df_esios['demand']>(Q3.iloc[0] + 1.5 * IQR.iloc[0])].count()\n",
    "numOutliersDemand = numOutliersQ1_D + numOutliersQ3_D\n",
    "numOutliersDemand"
   ]
  },
  {
   "cell_type": "code",
   "execution_count": 17,
   "metadata": {
    "scrolled": true
   },
   "outputs": [
    {
     "data": {
      "image/png": "[encoded data removed]",
      "text/plain": [
       "<Figure size 1080x360 with 1 Axes>"
      ]
     },
     "metadata": {},
     "output_type": "display_data"
    }
   ],
   "source": [
    "sns.set(rc={\"figure.figsize\": (15, 5)})\n",
    "sns.distplot(df_esios['demand'])\n",
    "plt.show()"
   ]
  },
  {
   "cell_type": "markdown",
   "metadata": {},
   "source": [
    "#### 'SOLAR' Outliers:\n"
   ]
  },
  {
   "cell_type": "code",
   "execution_count": 18,
   "metadata": {},
   "outputs": [
    {
     "data": {
      "text/plain": [
       "403"
      ]
     },
     "execution_count": 18,
     "metadata": {},
     "output_type": "execute_result"
    }
   ],
   "source": [
    "numOutliersQ1_S = df_esios['solar'][df_esios['solar']<(Q1.iloc[1] - 1.5 * IQR.iloc[1])].count()\n",
    "numOutliersQ3_S = df_esios['solar'][df_esios['solar']>(Q3.iloc[1] + 1.5 * IQR.iloc[1])].count()\n",
    "numOutliersSolar = numOutliersQ1_S + numOutliersQ3_S\n",
    "numOutliersSolar"
   ]
  },
  {
   "cell_type": "code",
   "execution_count": 19,
   "metadata": {},
   "outputs": [
    {
     "data": {
      "image/png": "[encoded data removed]",
      "text/plain": [
       "<Figure size 1080x360 with 1 Axes>"
      ]
     },
     "metadata": {},
     "output_type": "display_data"
    }
   ],
   "source": [
    "sns.set(rc={\"figure.figsize\": (15, 5)})\n",
    "sns.distplot(df_esios['solar'])\n",
    "plt.show()"
   ]
  },
  {
   "cell_type": "markdown",
   "metadata": {},
   "source": [
    "#### 'WIND' Outliers:\n"
   ]
  },
  {
   "cell_type": "code",
   "execution_count": 20,
   "metadata": {},
   "outputs": [
    {
     "data": {
      "text/plain": [
       "506"
      ]
     },
     "execution_count": 20,
     "metadata": {},
     "output_type": "execute_result"
    }
   ],
   "source": [
    "numOutliersQ1_W = df_esios['wind'][df_esios['wind']<(Q1.iloc[2] - 1.5 * IQR.iloc[2])].count()\n",
    "numOutliersQ3_W = df_esios['wind'][df_esios['wind']>(Q3.iloc[2] + 1.5 * IQR.iloc[2])].count()\n",
    "numOutliersWind = numOutliersQ1_W + numOutliersQ3_W\n",
    "numOutliersWind"
   ]
  },
  {
   "cell_type": "code",
   "execution_count": 21,
   "metadata": {},
   "outputs": [
    {
     "data": {
      "image/png": "[encoded data removed]",
      "text/plain": [
       "<Figure size 1080x360 with 1 Axes>"
      ]
     },
     "metadata": {},
     "output_type": "display_data"
    }
   ],
   "source": [
    "sns.set(rc={\"figure.figsize\": (15, 5)})\n",
    "sns.distplot(df_esios['wind'])\n",
    "plt.show()"
   ]
  },
  {
   "cell_type": "markdown",
   "metadata": {},
   "source": [
    "#### 'PRICE' Outliers:\n"
   ]
  },
  {
   "cell_type": "code",
   "execution_count": 22,
   "metadata": {},
   "outputs": [
    {
     "data": {
      "text/plain": [
       "1609"
      ]
     },
     "execution_count": 22,
     "metadata": {},
     "output_type": "execute_result"
    }
   ],
   "source": [
    "numOutliersQ1_P = df_esios['price'][df_esios['price']<(Q1.iloc[3] - 1.5 * IQR.iloc[3])].count()\n",
    "numOutliersQ3_P = df_esios['price'][df_esios['price']>(Q3.iloc[3] + 1.5 * IQR.iloc[3])].count()\n",
    "numOutliersPrice = numOutliersQ1_P + numOutliersQ3_P\n",
    "numOutliersPrice"
   ]
  },
  {
   "cell_type": "code",
   "execution_count": 23,
   "metadata": {},
   "outputs": [
    {
     "data": {
      "image/png": "[encoded data removed]",
      "text/plain": [
       "<Figure size 1080x360 with 1 Axes>"
      ]
     },
     "metadata": {},
     "output_type": "display_data"
    }
   ],
   "source": [
    "sns.set(rc={\"figure.figsize\": (15, 5)})\n",
    "sns.distplot(df_esios['price'])\n",
    "plt.show()"
   ]
  },
  {
   "cell_type": "markdown",
   "metadata": {},
   "source": [
    "In 'demand' series -> 0 outliers.<br>\n",
    "In 'solar' series -> 403 outliers(0.707% of data are outliers).<br>\n",
    "In 'wind' series -> 506 outliers (0,888% of data are outliers).<br>\n",
    "In 'price' series -> 1609 outliers (2.814% of data are outliers).<br>"
   ]
  },
  {
   "cell_type": "code",
   "execution_count": null,
   "metadata": {},
   "outputs": [],
   "source": []
  },
  {
   "cell_type": "code",
   "execution_count": null,
   "metadata": {},
   "outputs": [],
   "source": []
  }
 ],
 "metadata": {
  "kernelspec": {
   "display_name": "Python 3",
   "language": "python",
   "name": "python3"
  },
  "language_info": {
   "codemirror_mode": {
    "name": "ipython",
    "version": 3
   },
   "file_extension": ".py",
   "mimetype": "text/x-python",
   "name": "python",
   "nbconvert_exporter": "python",
   "pygments_lexer": "ipython3",
   "version": "3.6.9"
  }
 },
 "nbformat": 4,
 "nbformat_minor": 2
}
