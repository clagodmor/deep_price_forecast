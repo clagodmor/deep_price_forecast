{
 "cells": [
  {
   "cell_type": "markdown",
   "metadata": {},
   "source": [
    "## Data acquisition and processing"
   ]
  },
  {
   "cell_type": "code",
   "execution_count": 2,
   "metadata": {},
   "outputs": [],
   "source": [
    "import os\n",
    "import pandas as pd\n",
    "import numpy as np\n",
    "from datetime import datetime, timedelta\n",
    "from esios import *"
   ]
  },
  {
   "cell_type": "markdown",
   "metadata": {},
   "source": [
    "### 1. Download data using ESIOS.py "
   ]
  },
  {
   "cell_type": "markdown",
   "metadata": {},
   "source": [
    "#### Dictionary with Indicator Name and Number of Indicator"
   ]
  },
  {
   "cell_type": "code",
   "execution_count": 3,
   "metadata": {},
   "outputs": [],
   "source": [
    "indicatorsDict = {\n",
    "                    'demand': 460,\n",
    "                    'price': 805,\n",
    "                    'wind':541,\n",
    "                    'solar':10034\n",
    "                 }\n",
    "\n",
    "indicatorsItems = indicatorsDict.items()   # To iterate over name and number at the same time"
   ]
  },
  {
   "cell_type": "markdown",
   "metadata": {},
   "source": [
    "#### Download indicators data from 01-01-2014 to 01-06-2020 and save it into `\".csv\"` files."
   ]
  },
  {
   "cell_type": "code",
   "execution_count": 5,
   "metadata": {},
   "outputs": [
    {
     "name": "stdout",
     "output_type": "stream",
     "text": [
      "Analyzing indicators...\n",
      "Start Date: 2020-08-01\n",
      "End Date: 2020-08-25\n",
      "Downloading Previsión diaria de la demanda eléctrica peninsular\n",
      "Generated:demand\n",
      "Start Date: 2020-08-01\n",
      "End Date: 2020-08-25\n",
      "Downloading Precio medio horario componente mercado diario \n",
      "Generated:price\n",
      "Start Date: 2020-08-01\n",
      "End Date: 2020-08-25\n",
      "Downloading Previsión de la producción eólica peninsular\n",
      "Generated:wind\n",
      "Start Date: 2020-08-01\n",
      "End Date: 2020-08-25\n",
      "Downloading Generación prevista Solar\n",
      "Generated:solar\n"
     ]
    }
   ],
   "source": [
    "start_date = \"2020-08-01\"\n",
    "end_date = \"2020-08-25\"\n",
    "start_ = start_date + 'T00:00:00'\n",
    "end_ = end_date + 'T23:50:00'\n",
    "token = '6cc21e0b60e9931e7522a6ce72a1a09f3a6fadc6f08b142f956db142c6858bc2'    # Introduce ESIOS token\n",
    "esios = ESIOS(token)\n",
    "country = 'Spain' #Spain, France or Portugal are the options\n",
    "\n",
    "for indicatorName, indicatorValue in indicatorsItems:\n",
    "    print ('Start Date: ' + start_date)\n",
    "    print ('End Date: ' + end_date)\n",
    "    indicators_ = list()\n",
    "    indicators_.append(indicatorValue)\n",
    "    dfmul , df_list, names = esios.get_multiple_series(indicators_, start_, end_, country)\n",
    "    df = dfmul[names]\n",
    "    df = df.reset_index()\n",
    "    df.columns = ['Date', indicatorName]\n",
    "    df['Date'] = df['Date'].str.replace('.', ' ')\n",
    "    df['Date'] = df['Date'].str.split().str[0]\n",
    "    df['Date'] = df['Date'].str.replace('T', ' ')\n",
    "    # Export to .csv file\n",
    "    try:\n",
    "        os.stat(\"Files/\")\n",
    "    except:\n",
    "        os.mkdir(\"Files/\")\n",
    "    df.to_csv(path_or_buf= 'Files/' + str(indicatorName) + '.csv', sep='^', index=False)\n",
    "    print('Generated:' + str(indicatorName))"
   ]
  },
  {
   "cell_type": "markdown",
   "metadata": {},
   "source": [
    "### 2. Preprocesing bank holidays"
   ]
  },
  {
   "cell_type": "code",
   "execution_count": null,
   "metadata": {},
   "outputs": [],
   "source": [
    "df_holidays = pd.read_csv('Files/Bank_Holidays_Final.csv', sep = '^')\n",
    "df_holidays['Date'] =pd.to_datetime(df_holidays['Date'])"
   ]
  },
  {
   "cell_type": "markdown",
   "metadata": {},
   "source": [
    "### 3. Preprocesing esios data"
   ]
  },
  {
   "cell_type": "code",
   "execution_count": 14,
   "metadata": {},
   "outputs": [],
   "source": [
    "from functools import reduce"
   ]
  },
  {
   "cell_type": "code",
   "execution_count": 15,
   "metadata": {},
   "outputs": [],
   "source": [
    "with open('Files/demand.csv', 'r') as fichero:     \n",
    "    dfDemand = pd.read_csv(fichero, sep = '^', dtype='object')\n",
    "    dfDemand['Date']=pd.to_datetime(dfDemand['Date'])\n",
    "    \n",
    "with open('Files/solar.csv', 'r') as fichero:     \n",
    "    dfSolar = pd.read_csv(fichero, sep = '^', dtype='object')\n",
    "    dfSolar['Date']=pd.to_datetime(dfSolar['Date']) \n",
    "    \n",
    "with open('Files/wind.csv', 'r') as fichero:     \n",
    "    dfWind = pd.read_csv(fichero, sep = '^', dtype='object')\n",
    "    dfWind['Date']=pd.to_datetime(dfWind['Date'])\n",
    "    \n",
    "with open('Files/price.csv', 'r') as fichero:     \n",
    "    dfPrice = pd.read_csv(fichero, sep = '^', dtype='object')\n",
    "    dfPrice['Date']=pd.to_datetime(dfPrice['Date']) "
   ]
  },
  {
   "cell_type": "markdown",
   "metadata": {},
   "source": [
    "#### Merge all files in one DataFrame"
   ]
  },
  {
   "cell_type": "markdown",
   "metadata": {},
   "source": [
    "#### It's necessary to drop duplicates values to avoid repeated rows before merging DataFrames. "
   ]
  },
  {
   "cell_type": "code",
   "execution_count": 16,
   "metadata": {},
   "outputs": [],
   "source": [
    "dfDemand = dfDemand.drop_duplicates(subset='Date', keep='first')\n",
    "dfSolar = dfSolar.drop_duplicates(subset='Date', keep='first')\n",
    "dfWind = dfWind.drop_duplicates(subset='Date', keep='first')\n",
    "dfPrice = dfPrice.drop_duplicates(subset='Date', keep='first')"
   ]
  },
  {
   "cell_type": "code",
   "execution_count": 17,
   "metadata": {},
   "outputs": [
    {
     "data": {
      "text/html": [
       "<div>\n",
       "<style scoped>\n",
       "    .dataframe tbody tr th:only-of-type {\n",
       "        vertical-align: middle;\n",
       "    }\n",
       "\n",
       "    .dataframe tbody tr th {\n",
       "        vertical-align: top;\n",
       "    }\n",
       "\n",
       "    .dataframe thead th {\n",
       "        text-align: right;\n",
       "    }\n",
       "</style>\n",
       "<table border=\"1\" class=\"dataframe\">\n",
       "  <thead>\n",
       "    <tr style=\"text-align: right;\">\n",
       "      <th></th>\n",
       "      <th>Date</th>\n",
       "      <th>demand</th>\n",
       "      <th>solar</th>\n",
       "      <th>wind</th>\n",
       "      <th>price</th>\n",
       "    </tr>\n",
       "  </thead>\n",
       "  <tbody>\n",
       "    <tr>\n",
       "      <th>0</th>\n",
       "      <td>2020-08-01 00:00:00</td>\n",
       "      <td>29082.0</td>\n",
       "      <td>377.2</td>\n",
       "      <td>2918.0</td>\n",
       "      <td>37.96</td>\n",
       "    </tr>\n",
       "    <tr>\n",
       "      <th>1</th>\n",
       "      <td>2020-08-01 01:00:00</td>\n",
       "      <td>27370.0</td>\n",
       "      <td>335.5</td>\n",
       "      <td>3270.0</td>\n",
       "      <td>32.4</td>\n",
       "    </tr>\n",
       "    <tr>\n",
       "      <th>2</th>\n",
       "      <td>2020-08-01 02:00:00</td>\n",
       "      <td>25845.0</td>\n",
       "      <td>419.1</td>\n",
       "      <td>3490.0</td>\n",
       "      <td>31.01</td>\n",
       "    </tr>\n",
       "  </tbody>\n",
       "</table>\n",
       "</div>"
      ],
      "text/plain": [
       "                 Date   demand  solar    wind  price\n",
       "0 2020-08-01 00:00:00  29082.0  377.2  2918.0  37.96\n",
       "1 2020-08-01 01:00:00  27370.0  335.5  3270.0   32.4\n",
       "2 2020-08-01 02:00:00  25845.0  419.1  3490.0  31.01"
      ]
     },
     "execution_count": 17,
     "metadata": {},
     "output_type": "execute_result"
    }
   ],
   "source": [
    "df_esios = [dfDemand, dfSolar, dfWind, dfPrice]\n",
    "df_esios = reduce(lambda left,right: pd.merge(left,right,on='Date', how = 'right'), df_esios)\n",
    "df_esios.head(3)"
   ]
  },
  {
   "cell_type": "markdown",
   "metadata": {},
   "source": [
    "#### Is needed to cast objects to floats"
   ]
  },
  {
   "cell_type": "code",
   "execution_count": 18,
   "metadata": {
    "scrolled": true
   },
   "outputs": [
    {
     "data": {
      "text/plain": [
       "Date      datetime64[ns]\n",
       "demand            object\n",
       "solar             object\n",
       "wind              object\n",
       "price             object\n",
       "dtype: object"
      ]
     },
     "execution_count": 18,
     "metadata": {},
     "output_type": "execute_result"
    }
   ],
   "source": [
    "df_esios.dtypes"
   ]
  },
  {
   "cell_type": "code",
   "execution_count": 19,
   "metadata": {},
   "outputs": [],
   "source": [
    "df_esios['demand'] = df_esios['demand'].astype(float)\n",
    "df_esios['solar'] = df_esios['solar'].astype(float)\n",
    "df_esios['wind'] = df_esios['wind'].astype(float)\n",
    "df_esios['price'] = df_esios['price'].astype(float)"
   ]
  },
  {
   "cell_type": "code",
   "execution_count": null,
   "metadata": {},
   "outputs": [],
   "source": [
    "df_esios.dtypes"
   ]
  },
  {
   "cell_type": "markdown",
   "metadata": {},
   "source": [
    "#### Check data distribution using seaborn boxplot"
   ]
  },
  {
   "cell_type": "code",
   "execution_count": null,
   "metadata": {},
   "outputs": [],
   "source": [
    "import seaborn as sns\n",
    "import matplotlib.dates as dates\n",
    "import matplotlib.pyplot as plt\n",
    "%matplotlib inline "
   ]
  },
  {
   "cell_type": "code",
   "execution_count": null,
   "metadata": {},
   "outputs": [],
   "source": [
    "fig, axs = plt.subplots(ncols=4,figsize=(15,7))\n",
    "plt.subplots_adjust(wspace=1, hspace=None)\n",
    "sns.boxplot(df_esios['demand'], orient='v', ax=axs[0])\n",
    "sns.boxplot(df_esios['solar'], orient='v', ax=axs[1])\n",
    "sns.boxplot(df_esios['wind'], orient='v', ax=axs[2])\n",
    "sns.boxplot(df_esios['price'], orient='v', ax=axs[3])\n",
    "plt.show()"
   ]
  },
  {
   "cell_type": "markdown",
   "metadata": {},
   "source": [
    "#### 2a. OUTLIERS"
   ]
  },
  {
   "cell_type": "code",
   "execution_count": null,
   "metadata": {},
   "outputs": [],
   "source": [
    "df_esios.describe()"
   ]
  },
  {
   "cell_type": "markdown",
   "metadata": {},
   "source": [
    "Calculate Interquantile range as the difference between upper and lower quartiles (IQR = Q3 - Q1)\n",
    "\n"
   ]
  },
  {
   "cell_type": "code",
   "execution_count": null,
   "metadata": {},
   "outputs": [],
   "source": [
    "Q1 = df_esios.quantile(0.25)\n",
    "Q3 = df_esios.quantile(0.75)\n",
    "IQR = Q3 - Q1\n",
    "IQR"
   ]
  },
  {
   "cell_type": "markdown",
   "metadata": {},
   "source": [
    "Calculate the number of outliers for each DataFrame 'df_esios' series."
   ]
  },
  {
   "cell_type": "markdown",
   "metadata": {},
   "source": [
    "#### 'DEMAND' Outliers:\n"
   ]
  },
  {
   "cell_type": "code",
   "execution_count": null,
   "metadata": {},
   "outputs": [],
   "source": [
    "numOutliersQ1_D = df_esios['demand'][df_esios['demand']<(Q1.iloc[0] - 1.5 * IQR.iloc[0])].count()\n",
    "numOutliersQ3_D = df_esios['demand'][df_esios['demand']>(Q3.iloc[0] + 1.5 * IQR.iloc[0])].count()\n",
    "numOutliersDemand = numOutliersQ1_D + numOutliersQ3_D\n",
    "numOutliersDemand"
   ]
  },
  {
   "cell_type": "code",
   "execution_count": null,
   "metadata": {
    "scrolled": true
   },
   "outputs": [],
   "source": [
    "sns.set(rc={\"figure.figsize\": (15, 5)})\n",
    "sns.distplot(df_esios['demand'])\n",
    "plt.show()"
   ]
  },
  {
   "cell_type": "markdown",
   "metadata": {},
   "source": [
    "#### 'SOLAR' Outliers:\n"
   ]
  },
  {
   "cell_type": "code",
   "execution_count": null,
   "metadata": {},
   "outputs": [],
   "source": [
    "numOutliersQ1_S = df_esios['solar'][df_esios['solar']<(Q1.iloc[1] - 1.5 * IQR.iloc[1])].count()\n",
    "numOutliersQ3_S = df_esios['solar'][df_esios['solar']>(Q3.iloc[1] + 1.5 * IQR.iloc[1])].count()\n",
    "numOutliersSolar = numOutliersQ1_S + numOutliersQ3_S\n",
    "numOutliersSolar"
   ]
  },
  {
   "cell_type": "code",
   "execution_count": null,
   "metadata": {},
   "outputs": [],
   "source": [
    "sns.set(rc={\"figure.figsize\": (15, 5)})\n",
    "sns.distplot(df_esios['solar'])\n",
    "plt.show()"
   ]
  },
  {
   "cell_type": "markdown",
   "metadata": {},
   "source": [
    "#### 'WIND' Outliers:\n"
   ]
  },
  {
   "cell_type": "code",
   "execution_count": null,
   "metadata": {},
   "outputs": [],
   "source": [
    "numOutliersQ1_W = df_esios['wind'][df_esios['wind']<(Q1.iloc[2] - 1.5 * IQR.iloc[2])].count()\n",
    "numOutliersQ3_W = df_esios['wind'][df_esios['wind']>(Q3.iloc[2] + 1.5 * IQR.iloc[2])].count()\n",
    "numOutliersWind = numOutliersQ1_W + numOutliersQ3_W\n",
    "numOutliersWind"
   ]
  },
  {
   "cell_type": "code",
   "execution_count": null,
   "metadata": {},
   "outputs": [],
   "source": [
    "sns.set(rc={\"figure.figsize\": (15, 5)})\n",
    "sns.distplot(df_esios['wind'])\n",
    "plt.show()"
   ]
  },
  {
   "cell_type": "markdown",
   "metadata": {},
   "source": [
    "#### 'PRICE' Outliers:\n"
   ]
  },
  {
   "cell_type": "code",
   "execution_count": null,
   "metadata": {},
   "outputs": [],
   "source": [
    "numOutliersQ1_P = df_esios['price'][df_esios['price']<(Q1.iloc[3] - 1.5 * IQR.iloc[3])].count()\n",
    "numOutliersQ3_P = df_esios['price'][df_esios['price']>(Q3.iloc[3] + 1.5 * IQR.iloc[3])].count()\n",
    "numOutliersPrice = numOutliersQ1_P + numOutliersQ3_P\n",
    "numOutliersPrice"
   ]
  },
  {
   "cell_type": "code",
   "execution_count": null,
   "metadata": {},
   "outputs": [],
   "source": [
    "sns.set(rc={\"figure.figsize\": (15, 5)})\n",
    "sns.distplot(df_esios['price'])\n",
    "plt.show()"
   ]
  },
  {
   "cell_type": "markdown",
   "metadata": {},
   "source": [
    "In 'demand' series -> 0 outliers.<br>\n",
    "In 'solar' series -> 403 outliers(0.707% of data are outliers).<br>\n",
    "In 'wind' series -> 506 outliers (0,888% of data are outliers).<br>\n",
    "In 'price' series -> 1609 outliers (2.814% of data are outliers).<br>"
   ]
  },
  {
   "cell_type": "markdown",
   "metadata": {},
   "source": [
    "#### 3. Merge DataFrames"
   ]
  },
  {
   "cell_type": "code",
   "execution_count": null,
   "metadata": {},
   "outputs": [],
   "source": [
    "df_merge = [df_holidays, df_esios]"
   ]
  },
  {
   "cell_type": "code",
   "execution_count": null,
   "metadata": {},
   "outputs": [],
   "source": [
    "data = reduce(lambda left,right: pd.merge(left,right,on='Date'), df_merge)\n",
    "data.head()"
   ]
  },
  {
   "cell_type": "code",
   "execution_count": 20,
   "metadata": {},
   "outputs": [
    {
     "data": {
      "text/html": [
       "<div>\n",
       "<style scoped>\n",
       "    .dataframe tbody tr th:only-of-type {\n",
       "        vertical-align: middle;\n",
       "    }\n",
       "\n",
       "    .dataframe tbody tr th {\n",
       "        vertical-align: top;\n",
       "    }\n",
       "\n",
       "    .dataframe thead th {\n",
       "        text-align: right;\n",
       "    }\n",
       "</style>\n",
       "<table border=\"1\" class=\"dataframe\">\n",
       "  <thead>\n",
       "    <tr style=\"text-align: right;\">\n",
       "      <th></th>\n",
       "      <th>Date</th>\n",
       "      <th>demand</th>\n",
       "      <th>solar</th>\n",
       "      <th>wind</th>\n",
       "      <th>price</th>\n",
       "    </tr>\n",
       "  </thead>\n",
       "  <tbody>\n",
       "    <tr>\n",
       "      <th>0</th>\n",
       "      <td>2020-08-01 00:00:00</td>\n",
       "      <td>29082.0</td>\n",
       "      <td>377.2</td>\n",
       "      <td>2918.0</td>\n",
       "      <td>37.96</td>\n",
       "    </tr>\n",
       "    <tr>\n",
       "      <th>1</th>\n",
       "      <td>2020-08-01 01:00:00</td>\n",
       "      <td>27370.0</td>\n",
       "      <td>335.5</td>\n",
       "      <td>3270.0</td>\n",
       "      <td>32.40</td>\n",
       "    </tr>\n",
       "    <tr>\n",
       "      <th>2</th>\n",
       "      <td>2020-08-01 02:00:00</td>\n",
       "      <td>25845.0</td>\n",
       "      <td>419.1</td>\n",
       "      <td>3490.0</td>\n",
       "      <td>31.01</td>\n",
       "    </tr>\n",
       "    <tr>\n",
       "      <th>3</th>\n",
       "      <td>2020-08-01 03:00:00</td>\n",
       "      <td>25127.0</td>\n",
       "      <td>355.0</td>\n",
       "      <td>3876.0</td>\n",
       "      <td>30.30</td>\n",
       "    </tr>\n",
       "    <tr>\n",
       "      <th>4</th>\n",
       "      <td>2020-08-01 04:00:00</td>\n",
       "      <td>24372.0</td>\n",
       "      <td>259.7</td>\n",
       "      <td>3964.0</td>\n",
       "      <td>30.30</td>\n",
       "    </tr>\n",
       "  </tbody>\n",
       "</table>\n",
       "</div>"
      ],
      "text/plain": [
       "                 Date   demand  solar    wind  price\n",
       "0 2020-08-01 00:00:00  29082.0  377.2  2918.0  37.96\n",
       "1 2020-08-01 01:00:00  27370.0  335.5  3270.0  32.40\n",
       "2 2020-08-01 02:00:00  25845.0  419.1  3490.0  31.01\n",
       "3 2020-08-01 03:00:00  25127.0  355.0  3876.0  30.30\n",
       "4 2020-08-01 04:00:00  24372.0  259.7  3964.0  30.30"
      ]
     },
     "execution_count": 20,
     "metadata": {},
     "output_type": "execute_result"
    }
   ],
   "source": [
    "df_esios.head()"
   ]
  },
  {
   "cell_type": "code",
   "execution_count": null,
   "metadata": {},
   "outputs": [],
   "source": [
    "ax = plt.figure(figsize=(15,10)).add_subplot(111)\n",
    "plt.scatter(data['Date'].tolist(), data['price'],alpha=0.5) \n",
    "plt.xlim([datetime.date(2014, 1, 1), datetime.date(2020, 12, 31)])\n",
    "ax.xaxis.set_major_locator(dates.MonthLocator())\n",
    "hfmt = dates.DateFormatter('%Y-%m')\n",
    "ax.xaxis.set_major_formatter(hfmt)\n",
    "plt.xticks(rotation=45)\n",
    "plt.show()"
   ]
  },
  {
   "cell_type": "code",
   "execution_count": null,
   "metadata": {},
   "outputs": [],
   "source": [
    "data.to_csv('Data.csv', sep = '^', index = False)"
   ]
  },
  {
   "cell_type": "code",
   "execution_count": 6,
   "metadata": {},
   "outputs": [
    {
     "name": "stdout",
     "output_type": "stream",
     "text": [
      "Today's date: 2020-08-25\n"
     ]
    }
   ],
   "source": [
    "from datetime import date\n",
    "\n",
    "today = date.today()\n",
    "print(\"Today's date:\", today)"
   ]
  },
  {
   "cell_type": "code",
   "execution_count": 13,
   "metadata": {},
   "outputs": [
    {
     "data": {
      "text/plain": [
       "datetime.date(2020, 8, 20)"
      ]
     },
     "execution_count": 13,
     "metadata": {},
     "output_type": "execute_result"
    }
   ],
   "source": [
    "hace5 = today -  datetime.timedelta(days=5 )\n",
    "hace5"
   ]
  },
  {
   "cell_type": "code",
   "execution_count": 21,
   "metadata": {},
   "outputs": [
    {
     "data": {
      "text/plain": [
       "'2020-08-20'"
      ]
     },
     "execution_count": 21,
     "metadata": {},
     "output_type": "execute_result"
    }
   ],
   "source": [
    "hace5.strftime(\"%Y-%m-%d\")"
   ]
  },
  {
   "cell_type": "code",
   "execution_count": null,
   "metadata": {},
   "outputs": [],
   "source": []
  }
 ],
 "metadata": {
  "kernelspec": {
   "display_name": "Python 3",
   "language": "python",
   "name": "python3"
  },
  "language_info": {
   "codemirror_mode": {
    "name": "ipython",
    "version": 3
   },
   "file_extension": ".py",
   "mimetype": "text/x-python",
   "name": "python",
   "nbconvert_exporter": "python",
   "pygments_lexer": "ipython3",
   "version": "3.6.9"
  }
 },
 "nbformat": 4,
 "nbformat_minor": 2
}
