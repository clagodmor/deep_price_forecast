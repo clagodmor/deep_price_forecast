{
 "cells": [
  {
   "cell_type": "code",
   "execution_count": 2,
   "metadata": {},
   "outputs": [],
   "source": [
    "import os\n",
    "import pandas as pd\n",
    "import numpy as np\n",
    "from datetime import datetime, timedelta\n",
    "from esios import *"
   ]
  },
  {
   "cell_type": "markdown",
   "metadata": {},
   "source": [
    "Create dictionary with Indicator Name and Number of Indicator"
   ]
  },
  {
   "cell_type": "code",
   "execution_count": 3,
   "metadata": {},
   "outputs": [],
   "source": [
    "indicatorsDict = {\n",
    "    'Previsión diaria de la demanda eléctrica peninsular' : 460,\n",
    "#                   'Generación prevista Solar' : 10034,\n",
    "#                   'Previsión de la producción eólica nacional peninsular' : 541,  \n",
    "                  'Precio medio horario componente mercado diario' : 805,\n",
    "                  'Generación T.Real nuclear' : 549,\n",
    "#                   'Generación T.Real Solar' : 10206,\n",
    "                  'Generación T.Real hidráulica' : 546,\n",
    "                  'Generación T.Real eólica' : 551,\n",
    "                  'Generación T.Real Solar térmica' : 1294,\n",
    "                  'Generación T.Real Solar fotovoltaica' : 1295\n",
    "                 }\n",
    "\n",
    "indicatorsItems = indicatorsDict.items()   # To iterate over name and number at the same time"
   ]
  },
  {
   "cell_type": "markdown",
   "metadata": {},
   "source": [
    "Download indicators data from 01/01/2016 to 01/06/2020 and save it into `\".csv\"` files."
   ]
  },
  {
   "cell_type": "code",
   "execution_count": 4,
   "metadata": {},
   "outputs": [
    {
     "name": "stdout",
     "output_type": "stream",
     "text": [
      "Analyzing indicators...\n",
      "Start Date: 2016-01-01\n",
      "End Date: 2020-05-01\n",
      "Downloading Previsión diaria de la demanda eléctrica peninsular\n",
      "Generated:460\n",
      "Start Date: 2016-01-01\n",
      "End Date: 2020-05-01\n",
      "Downloading Precio medio horario componente mercado diario \n",
      "Generated:805\n",
      "Start Date: 2016-01-01\n",
      "End Date: 2020-05-01\n",
      "Downloading Generación T.Real nuclear\n",
      "Generated:549\n",
      "Start Date: 2016-01-01\n",
      "End Date: 2020-05-01\n",
      "Downloading Generación T.Real hidráulica\n",
      "Generated:546\n",
      "Start Date: 2016-01-01\n",
      "End Date: 2020-05-01\n",
      "Downloading Generación T.Real eólica\n",
      "Generated:551\n",
      "Start Date: 2016-01-01\n",
      "End Date: 2020-05-01\n",
      "Downloading Generación T.Real Solar térmica\n",
      "Generated:1294\n",
      "Start Date: 2016-01-01\n",
      "End Date: 2020-05-01\n",
      "Downloading Generación T.Real Solar fotovoltaica\n",
      "Generated:1295\n"
     ]
    }
   ],
   "source": [
    "if __name__ == '__main__':\n",
    "    start_date = \"2016-01-01\"\n",
    "    end_date = \"2020-05-01\"\n",
    "    start_ = start_date + 'T00:00:00'\n",
    "    end_ = end_date + 'T23:50:00'\n",
    "    token = '6cc21e0b60e9931e7522a6ce72a1a09f3a6fadc6f08b142f956db142c6858bc2'    # Introduce ESIOS token\n",
    "    esios = ESIOS(token)\n",
    "    for indicatorName, indicatorValue in indicatorsItems:\n",
    "        print ('Start Date: ' + start_date)\n",
    "        print ('End Date: ' + end_date)\n",
    "        indicators_ = list()\n",
    "        indicators_.append(indicatorValue)\n",
    "        dfmul , df_list, names = esios.get_multiple_series_Spain(indicators_, start_, end_)\n",
    "        df = dfmul[names]\n",
    "        df = df.reset_index()\n",
    "        df.columns = ['Date', indicatorName]\n",
    "        df['Date'] = df['Date'].str.replace('.', ' ')\n",
    "        df['Date'] = df['Date'].str.split().str[0]\n",
    "        df['Date'] = df['Date'].str.replace('T', ' ')\n",
    "        # Export to .csv file\n",
    "        try:\n",
    "            os.stat(\"Files/\")\n",
    "        except:\n",
    "            os.mkdir(\"Files/\")\n",
    "        df.to_csv(path_or_buf= 'Files/' + str(indicatorValue) + '.csv', sep='^', index=False)\n",
    "        print('Generated:' + str(indicatorValue))"
   ]
  },
  {
   "cell_type": "markdown",
   "metadata": {},
   "source": [
    "Read `'.csv'` files generated in different DataFrames."
   ]
  },
  {
   "cell_type": "code",
   "execution_count": 5,
   "metadata": {},
   "outputs": [],
   "source": [
    "with open('Files/460.csv', 'r') as fichero:     \n",
    "    dfDemand = pd.read_csv(fichero, sep = '^', dtype='object')\n",
    "    dfDemand['Date']=pd.to_datetime(dfDemand['Date'])\n",
    "    \n",
    "with open('Files/1294.csv', 'r') as fichero:     \n",
    "    dfSolarT = pd.read_csv(fichero, sep = '^', dtype='object')\n",
    "    dfSolarT['Date']=pd.to_datetime(dfSolarT['Date'])\n",
    "    \n",
    "with open('Files/1295.csv', 'r') as fichero:     \n",
    "    dfSolar = pd.read_csv(fichero, sep = '^', dtype='object')\n",
    "    dfSolar['Date']=pd.to_datetime(dfSolar['Date']) \n",
    "    \n",
    "with open('Files/551.csv', 'r') as fichero:     \n",
    "    dfEolic = pd.read_csv(fichero, sep = '^', dtype='object')\n",
    "    dfEolic['Date']=pd.to_datetime(dfEolic['Date'])\n",
    "    \n",
    "with open('Files/805.csv', 'r') as fichero:     \n",
    "    dfPrice = pd.read_csv(fichero, sep = '^', dtype='object')\n",
    "    dfPrice['Date']=pd.to_datetime(dfPrice['Date']) \n",
    "        \n",
    "with open('Files/546.csv', 'r') as fichero:     \n",
    "    dfHidro = pd.read_csv(fichero, sep = '^', dtype='object')\n",
    "    dfHidro['Date']=pd.to_datetime(dfHidro['Date']) \n",
    "        \n",
    "with open('Files/549.csv', 'r') as fichero:     \n",
    "    dfNuclear = pd.read_csv(fichero, sep = '^', dtype='object')\n",
    "    dfNuclear['Date']=pd.to_datetime(dfNuclear['Date']) "
   ]
  },
  {
   "cell_type": "code",
   "execution_count": 6,
   "metadata": {},
   "outputs": [
    {
     "data": {
      "text/html": [
       "<div>\n",
       "<style scoped>\n",
       "    .dataframe tbody tr th:only-of-type {\n",
       "        vertical-align: middle;\n",
       "    }\n",
       "\n",
       "    .dataframe tbody tr th {\n",
       "        vertical-align: top;\n",
       "    }\n",
       "\n",
       "    .dataframe thead th {\n",
       "        text-align: right;\n",
       "    }\n",
       "</style>\n",
       "<table border=\"1\" class=\"dataframe\">\n",
       "  <thead>\n",
       "    <tr style=\"text-align: right;\">\n",
       "      <th></th>\n",
       "      <th>Date</th>\n",
       "      <th>Previsión diaria de la demanda eléctrica peninsular</th>\n",
       "    </tr>\n",
       "  </thead>\n",
       "  <tbody>\n",
       "    <tr>\n",
       "      <th>27711</th>\n",
       "      <td>2019-02-28 15:00:00</td>\n",
       "      <td>30258.0</td>\n",
       "    </tr>\n",
       "    <tr>\n",
       "      <th>35365</th>\n",
       "      <td>2020-01-13 13:00:00</td>\n",
       "      <td>37636.0</td>\n",
       "    </tr>\n",
       "    <tr>\n",
       "      <th>4936</th>\n",
       "      <td>2016-07-24 17:00:00</td>\n",
       "      <td>26017.0</td>\n",
       "    </tr>\n",
       "    <tr>\n",
       "      <th>23737</th>\n",
       "      <td>2018-09-16 02:00:00</td>\n",
       "      <td>22271.0</td>\n",
       "    </tr>\n",
       "    <tr>\n",
       "      <th>19536</th>\n",
       "      <td>2018-03-25 00:00:00</td>\n",
       "      <td>26360.0</td>\n",
       "    </tr>\n",
       "  </tbody>\n",
       "</table>\n",
       "</div>"
      ],
      "text/plain": [
       "                     Date Previsión diaria de la demanda eléctrica peninsular\n",
       "27711 2019-02-28 15:00:00                                            30258.0 \n",
       "35365 2020-01-13 13:00:00                                            37636.0 \n",
       "4936  2016-07-24 17:00:00                                            26017.0 \n",
       "23737 2018-09-16 02:00:00                                            22271.0 \n",
       "19536 2018-03-25 00:00:00                                            26360.0 "
      ]
     },
     "execution_count": 6,
     "metadata": {},
     "output_type": "execute_result"
    }
   ],
   "source": [
    "dfDemand.sample(5)"
   ]
  },
  {
   "cell_type": "code",
   "execution_count": 7,
   "metadata": {},
   "outputs": [
    {
     "data": {
      "text/html": [
       "<div>\n",
       "<style scoped>\n",
       "    .dataframe tbody tr th:only-of-type {\n",
       "        vertical-align: middle;\n",
       "    }\n",
       "\n",
       "    .dataframe tbody tr th {\n",
       "        vertical-align: top;\n",
       "    }\n",
       "\n",
       "    .dataframe thead th {\n",
       "        text-align: right;\n",
       "    }\n",
       "</style>\n",
       "<table border=\"1\" class=\"dataframe\">\n",
       "  <thead>\n",
       "    <tr style=\"text-align: right;\">\n",
       "      <th></th>\n",
       "      <th>Date</th>\n",
       "      <th>Generación T.Real Solar fotovoltaica</th>\n",
       "    </tr>\n",
       "  </thead>\n",
       "  <tbody>\n",
       "    <tr>\n",
       "      <th>205256</th>\n",
       "      <td>2019-11-26 09:20:00</td>\n",
       "      <td>559.0</td>\n",
       "    </tr>\n",
       "    <tr>\n",
       "      <th>210665</th>\n",
       "      <td>2020-01-02 22:50:00</td>\n",
       "      <td>20.0</td>\n",
       "    </tr>\n",
       "    <tr>\n",
       "      <th>121160</th>\n",
       "      <td>2018-04-21 10:20:00</td>\n",
       "      <td>1194.0</td>\n",
       "    </tr>\n",
       "    <tr>\n",
       "      <th>37342</th>\n",
       "      <td>2016-09-16 08:40:00</td>\n",
       "      <td>333.0</td>\n",
       "    </tr>\n",
       "    <tr>\n",
       "      <th>153657</th>\n",
       "      <td>2018-12-03 01:30:00</td>\n",
       "      <td>18.0</td>\n",
       "    </tr>\n",
       "  </tbody>\n",
       "</table>\n",
       "</div>"
      ],
      "text/plain": [
       "                      Date Generación T.Real Solar fotovoltaica\n",
       "205256 2019-11-26 09:20:00                                559.0\n",
       "210665 2020-01-02 22:50:00                                 20.0\n",
       "121160 2018-04-21 10:20:00                               1194.0\n",
       "37342  2016-09-16 08:40:00                                333.0\n",
       "153657 2018-12-03 01:30:00                                 18.0"
      ]
     },
     "execution_count": 7,
     "metadata": {},
     "output_type": "execute_result"
    }
   ],
   "source": [
    "dfSolar.sample(5)"
   ]
  },
  {
   "cell_type": "code",
   "execution_count": 8,
   "metadata": {},
   "outputs": [
    {
     "data": {
      "text/html": [
       "<div>\n",
       "<style scoped>\n",
       "    .dataframe tbody tr th:only-of-type {\n",
       "        vertical-align: middle;\n",
       "    }\n",
       "\n",
       "    .dataframe tbody tr th {\n",
       "        vertical-align: top;\n",
       "    }\n",
       "\n",
       "    .dataframe thead th {\n",
       "        text-align: right;\n",
       "    }\n",
       "</style>\n",
       "<table border=\"1\" class=\"dataframe\">\n",
       "  <thead>\n",
       "    <tr style=\"text-align: right;\">\n",
       "      <th></th>\n",
       "      <th>Date</th>\n",
       "      <th>Generación T.Real eólica</th>\n",
       "    </tr>\n",
       "  </thead>\n",
       "  <tbody>\n",
       "    <tr>\n",
       "      <th>26061</th>\n",
       "      <td>2016-06-30 00:30:00</td>\n",
       "      <td>4726.0</td>\n",
       "    </tr>\n",
       "    <tr>\n",
       "      <th>214937</th>\n",
       "      <td>2020-02-01 14:50:00</td>\n",
       "      <td>10430.0</td>\n",
       "    </tr>\n",
       "    <tr>\n",
       "      <th>14957</th>\n",
       "      <td>2016-04-13 21:50:00</td>\n",
       "      <td>5726.0</td>\n",
       "    </tr>\n",
       "    <tr>\n",
       "      <th>110269</th>\n",
       "      <td>2018-02-04 18:10:00</td>\n",
       "      <td>4614.0</td>\n",
       "    </tr>\n",
       "    <tr>\n",
       "      <th>185777</th>\n",
       "      <td>2019-07-14 03:50:00</td>\n",
       "      <td>6647.0</td>\n",
       "    </tr>\n",
       "  </tbody>\n",
       "</table>\n",
       "</div>"
      ],
      "text/plain": [
       "                      Date Generación T.Real eólica\n",
       "26061  2016-06-30 00:30:00                   4726.0\n",
       "214937 2020-02-01 14:50:00                  10430.0\n",
       "14957  2016-04-13 21:50:00                   5726.0\n",
       "110269 2018-02-04 18:10:00                   4614.0\n",
       "185777 2019-07-14 03:50:00                   6647.0"
      ]
     },
     "execution_count": 8,
     "metadata": {},
     "output_type": "execute_result"
    }
   ],
   "source": [
    "dfEolic.sample(5)"
   ]
  },
  {
   "cell_type": "code",
   "execution_count": 9,
   "metadata": {},
   "outputs": [
    {
     "data": {
      "text/html": [
       "<div>\n",
       "<style scoped>\n",
       "    .dataframe tbody tr th:only-of-type {\n",
       "        vertical-align: middle;\n",
       "    }\n",
       "\n",
       "    .dataframe tbody tr th {\n",
       "        vertical-align: top;\n",
       "    }\n",
       "\n",
       "    .dataframe thead th {\n",
       "        text-align: right;\n",
       "    }\n",
       "</style>\n",
       "<table border=\"1\" class=\"dataframe\">\n",
       "  <thead>\n",
       "    <tr style=\"text-align: right;\">\n",
       "      <th></th>\n",
       "      <th>Date</th>\n",
       "      <th>Precio medio horario componente mercado diario</th>\n",
       "    </tr>\n",
       "  </thead>\n",
       "  <tbody>\n",
       "    <tr>\n",
       "      <th>3811</th>\n",
       "      <td>2016-06-07 20:00:00</td>\n",
       "      <td>44.5</td>\n",
       "    </tr>\n",
       "    <tr>\n",
       "      <th>22444</th>\n",
       "      <td>2018-07-24 05:00:00</td>\n",
       "      <td>59.88</td>\n",
       "    </tr>\n",
       "    <tr>\n",
       "      <th>17708</th>\n",
       "      <td>2018-01-07 20:00:00</td>\n",
       "      <td>72.21</td>\n",
       "    </tr>\n",
       "    <tr>\n",
       "      <th>32741</th>\n",
       "      <td>2019-09-26 06:00:00</td>\n",
       "      <td>48.59</td>\n",
       "    </tr>\n",
       "    <tr>\n",
       "      <th>22415</th>\n",
       "      <td>2018-07-23 00:00:00</td>\n",
       "      <td>62.14</td>\n",
       "    </tr>\n",
       "  </tbody>\n",
       "</table>\n",
       "</div>"
      ],
      "text/plain": [
       "                     Date Precio medio horario componente mercado diario\n",
       "3811  2016-06-07 20:00:00                                           44.5\n",
       "22444 2018-07-24 05:00:00                                          59.88\n",
       "17708 2018-01-07 20:00:00                                          72.21\n",
       "32741 2019-09-26 06:00:00                                          48.59\n",
       "22415 2018-07-23 00:00:00                                          62.14"
      ]
     },
     "execution_count": 9,
     "metadata": {},
     "output_type": "execute_result"
    }
   ],
   "source": [
    "dfPrice.sample(5)"
   ]
  },
  {
   "cell_type": "code",
   "execution_count": 10,
   "metadata": {},
   "outputs": [
    {
     "data": {
      "text/html": [
       "<div>\n",
       "<style scoped>\n",
       "    .dataframe tbody tr th:only-of-type {\n",
       "        vertical-align: middle;\n",
       "    }\n",
       "\n",
       "    .dataframe tbody tr th {\n",
       "        vertical-align: top;\n",
       "    }\n",
       "\n",
       "    .dataframe thead th {\n",
       "        text-align: right;\n",
       "    }\n",
       "</style>\n",
       "<table border=\"1\" class=\"dataframe\">\n",
       "  <thead>\n",
       "    <tr style=\"text-align: right;\">\n",
       "      <th></th>\n",
       "      <th>Date</th>\n",
       "      <th>Generación T.Real nuclear</th>\n",
       "    </tr>\n",
       "  </thead>\n",
       "  <tbody>\n",
       "    <tr>\n",
       "      <th>220550</th>\n",
       "      <td>2020-03-11 14:20:00</td>\n",
       "      <td>7088.0</td>\n",
       "    </tr>\n",
       "    <tr>\n",
       "      <th>67780</th>\n",
       "      <td>2017-04-15 17:40:00</td>\n",
       "      <td>7013.0</td>\n",
       "    </tr>\n",
       "    <tr>\n",
       "      <th>78341</th>\n",
       "      <td>2017-06-28 01:50:00</td>\n",
       "      <td>5657.0</td>\n",
       "    </tr>\n",
       "    <tr>\n",
       "      <th>189731</th>\n",
       "      <td>2019-08-10 14:50:00</td>\n",
       "      <td>6912.0</td>\n",
       "    </tr>\n",
       "    <tr>\n",
       "      <th>204727</th>\n",
       "      <td>2019-11-22 17:10:00</td>\n",
       "      <td>5029.0</td>\n",
       "    </tr>\n",
       "  </tbody>\n",
       "</table>\n",
       "</div>"
      ],
      "text/plain": [
       "                      Date Generación T.Real nuclear\n",
       "220550 2020-03-11 14:20:00                    7088.0\n",
       "67780  2017-04-15 17:40:00                    7013.0\n",
       "78341  2017-06-28 01:50:00                    5657.0\n",
       "189731 2019-08-10 14:50:00                    6912.0\n",
       "204727 2019-11-22 17:10:00                    5029.0"
      ]
     },
     "execution_count": 10,
     "metadata": {},
     "output_type": "execute_result"
    }
   ],
   "source": [
    "dfNuclear.sample(5)"
   ]
  },
  {
   "cell_type": "code",
   "execution_count": null,
   "metadata": {},
   "outputs": [],
   "source": []
  }
 ],
 "metadata": {
  "kernelspec": {
   "display_name": "Python 3",
   "language": "python",
   "name": "python3"
  },
  "language_info": {
   "codemirror_mode": {
    "name": "ipython",
    "version": 3
   },
   "file_extension": ".py",
   "mimetype": "text/x-python",
   "name": "python",
   "nbconvert_exporter": "python",
   "pygments_lexer": "ipython3",
   "version": "3.6.9"
  }
 },
 "nbformat": 4,
 "nbformat_minor": 2
}
